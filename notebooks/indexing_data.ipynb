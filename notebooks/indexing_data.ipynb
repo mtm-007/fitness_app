{
 "cells": [
  {
   "cell_type": "code",
   "execution_count": 27,
   "id": "7352d137-fe60-4d1c-af1d-34681374443d",
   "metadata": {},
   "outputs": [],
   "source": [
    "import os\n",
    "import pandas as pd\n",
    "from openai import OpenAI\n",
    "from dotenv import load_dotenv\n",
    "from groq import Groq\n",
    "import openai"
   ]
  },
  {
   "cell_type": "code",
   "execution_count": 28,
   "id": "ad7c4829-dab2-44bb-900c-840cc812f7a2",
   "metadata": {},
   "outputs": [],
   "source": [
    "import minsearch"
   ]
  },
  {
   "cell_type": "markdown",
   "id": "67fa9446-d3ab-4df2-8978-4bb237644114",
   "metadata": {},
   "source": [
    "## Ingestion"
   ]
  },
  {
   "cell_type": "code",
   "execution_count": 29,
   "id": "f5740e33-9d22-42cf-9525-bcd15e2ef131",
   "metadata": {},
   "outputs": [],
   "source": [
    "df = pd.read_csv('../data/data.csv')"
   ]
  },
  {
   "cell_type": "code",
   "execution_count": 30,
   "id": "46679a4e-5037-4b9a-84a5-017dfb55ee0f",
   "metadata": {},
   "outputs": [],
   "source": [
    "documents = df.to_dict(orient='records')"
   ]
  },
  {
   "cell_type": "code",
   "execution_count": 31,
   "id": "22907692-0013-4035-8004-9a76c1f28797",
   "metadata": {},
   "outputs": [],
   "source": [
    "index = minsearch.Index(\n",
    "    text_fields=['exercise_name', 'type_of_activity', 'type_of_equipment', 'body_part',\n",
    "       'type', 'muscle_groups_activated', 'instructions'],\n",
    "    keyword_fields=['id']\n",
    ")"
   ]
  },
  {
   "cell_type": "code",
   "execution_count": 32,
   "id": "e150128b-aff7-4f4b-81e8-4fe3e1296f03",
   "metadata": {},
   "outputs": [
    {
     "data": {
      "text/plain": [
       "<minsearch.Index at 0x793258f9b4a0>"
      ]
     },
     "execution_count": 32,
     "metadata": {},
     "output_type": "execute_result"
    }
   ],
   "source": [
    "index.fit(documents)"
   ]
  },
  {
   "cell_type": "markdown",
   "id": "204dfd77-060f-419e-ac0c-2d095dcd7adb",
   "metadata": {},
   "source": [
    "## Rag Flow"
   ]
  },
  {
   "cell_type": "code",
   "execution_count": 33,
   "id": "a4ae7901-c6e4-43e6-9390-aa0e8b2bbf00",
   "metadata": {},
   "outputs": [
    {
     "data": {
      "text/plain": [
       "True"
      ]
     },
     "execution_count": 33,
     "metadata": {},
     "output_type": "execute_result"
    }
   ],
   "source": [
    "load_dotenv()"
   ]
  },
  {
   "cell_type": "code",
   "execution_count": 34,
   "id": "ea17c96f-cd47-4a9c-a139-88b01ea06d3e",
   "metadata": {},
   "outputs": [],
   "source": [
    "client = OpenAI()"
   ]
  },
  {
   "cell_type": "code",
   "execution_count": 35,
   "id": "b099d812-9d9f-4a99-b838-fb56c1630ba7",
   "metadata": {},
   "outputs": [],
   "source": [
    "# client = Groq(\n",
    "#     api_key=os.environ.get(\"GROQ_API_KEY\"),\n",
    "# )"
   ]
  },
  {
   "cell_type": "code",
   "execution_count": 36,
   "id": "538d4d10-266f-4d75-8138-f91b27db6e0e",
   "metadata": {},
   "outputs": [],
   "source": [
    "def search(query):\n",
    "    boost = {}\n",
    "\n",
    "    results = index.search(\n",
    "        query=query,\n",
    "        filter_dict={},\n",
    "        boost_dict=boost,\n",
    "        num_results=10\n",
    "    )\n",
    "\n",
    "    return results"
   ]
  },
  {
   "cell_type": "code",
   "execution_count": 37,
   "id": "cd8d24d2-a4ec-4d84-ab7e-e893e82a6f60",
   "metadata": {},
   "outputs": [],
   "source": [
    "prompt_template = \"\"\"\n",
    "You're a fitness instructor. Answer the QUESTION based on the CONTEXT from our exercises database.\n",
    "Use only the facts from the CONTEXT when answering the QUESTION.\n",
    "\n",
    "QUESTION: {question}\n",
    "\n",
    "CONTEXT: \n",
    "{context}\n",
    "\"\"\".strip()\n",
    "\n",
    "entry_template = \"\"\" \n",
    "exercise_name : {exercise_name}\n",
    "type_of_activity : {type_of_activity}\n",
    "type_of_equipment : {type_of_equipment}\n",
    "body_part : {body_part}\n",
    "type : {type}\n",
    "muscle_groups_activated : {muscle_groups_activated}\n",
    "instructions : {instructions}\n",
    "\"\"\".strip()\n",
    "    \n",
    "def build_prompt(query, search_results):\n",
    "    \n",
    "    context = \"\"\n",
    "    \n",
    "    for doc in search_results:\n",
    "        context = context + entry_template.format(**doc) + \"\\n\\n\"\n",
    "    \n",
    "    prompt = prompt_template.format(question=query, context=context).strip()\n",
    "    return prompt\n"
   ]
  },
  {
   "cell_type": "code",
   "execution_count": 38,
   "id": "ba12fd63-350e-4bca-8fc1-120c7ee7d82d",
   "metadata": {},
   "outputs": [],
   "source": [
    "query =  \"Can you explain how to do a Glute Bridge, I'm not sure about the movement.\""
   ]
  },
  {
   "cell_type": "code",
   "execution_count": 39,
   "id": "06ad8d50-8568-4751-a65d-87d5394d7c7b",
   "metadata": {},
   "outputs": [],
   "source": [
    "search_results = search(query)\n",
    "prompt = build_prompt(query, search_results)"
   ]
  },
  {
   "cell_type": "code",
   "execution_count": 43,
   "id": "c294bc29-2763-4c08-8298-fd80e320633d",
   "metadata": {},
   "outputs": [],
   "source": [
    "def llm(prompt):\n",
    "    response = client.chat.completions.create(\n",
    "        model=\"gpt-4o-mini\",\n",
    "        messages=[{\"role\": \"user\", \"content\": prompt}]\n",
    "    )\n",
    "    \n",
    "    return response.choices[0].message.content"
   ]
  },
  {
   "cell_type": "code",
   "execution_count": 44,
   "id": "eee60ca5-6c88-4035-a2f6-190c462e4923",
   "metadata": {},
   "outputs": [],
   "source": [
    "def rag(query):\n",
    "    search_results = search(query)\n",
    "    prompt = build_prompt(query, search_results)\n",
    "    #print(prompt)\n",
    "    answer = llm(prompt)\n",
    "    return answer"
   ]
  },
  {
   "cell_type": "code",
   "execution_count": 47,
   "id": "7be7b1f0-27d6-4fe2-af16-feb1b1526d05",
   "metadata": {},
   "outputs": [
    {
     "name": "stdout",
     "output_type": "stream",
     "text": [
      "The specific muscle groups predominantly activated during the Cable Face Pull exercise are the Rear Deltoids (Rear Delts), Trapezius (Traps), and Upper Back.\n"
     ]
    }
   ],
   "source": [
    "answer = rag(\"What specific muscle groups are predominantly activated during the Cable Face Pull exercise?\")\n",
    "print(answer)"
   ]
  },
  {
   "cell_type": "markdown",
   "id": "98f0d794-1b38-4c1b-ab9a-b6fb7584d7e1",
   "metadata": {},
   "source": [
    "### Retrieval Evaluation"
   ]
  },
  {
   "cell_type": "code",
   "execution_count": 48,
   "id": "ecf7a59e-8baf-46e2-bc3c-9562b5d4b524",
   "metadata": {},
   "outputs": [],
   "source": [
    "df_questions = pd.read_csv('../data/ground_truth_retrieval.csv')"
   ]
  },
  {
   "cell_type": "code",
   "execution_count": null,
   "id": "f2265ac2-90ee-4bde-8f3e-89025a4fc5cc",
   "metadata": {},
   "outputs": [],
   "source": []
  }
 ],
 "metadata": {
  "kernelspec": {
   "display_name": "Python 3 (ipykernel)",
   "language": "python",
   "name": "python3"
  },
  "language_info": {
   "codemirror_mode": {
    "name": "ipython",
    "version": 3
   },
   "file_extension": ".py",
   "mimetype": "text/x-python",
   "name": "python",
   "nbconvert_exporter": "python",
   "pygments_lexer": "ipython3",
   "version": "3.12.1"
  }
 },
 "nbformat": 4,
 "nbformat_minor": 5
}
