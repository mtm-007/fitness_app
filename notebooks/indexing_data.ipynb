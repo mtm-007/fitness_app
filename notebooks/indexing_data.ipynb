{
 "cells": [
  {
   "cell_type": "code",
   "execution_count": 49,
   "id": "7352d137-fe60-4d1c-af1d-34681374443d",
   "metadata": {},
   "outputs": [],
   "source": [
    "import os\n",
    "import pandas as pd\n",
    "from openai import OpenAI\n",
    "from dotenv import load_dotenv\n",
    "from groq import Groq\n",
    "import openai"
   ]
  },
  {
   "cell_type": "code",
   "execution_count": 50,
   "id": "ad7c4829-dab2-44bb-900c-840cc812f7a2",
   "metadata": {},
   "outputs": [],
   "source": [
    "import minsearch"
   ]
  },
  {
   "cell_type": "code",
   "execution_count": 20,
   "id": "f5740e33-9d22-42cf-9525-bcd15e2ef131",
   "metadata": {},
   "outputs": [],
   "source": [
    "df = pd.read_csv('data.csv')"
   ]
  },
  {
   "cell_type": "code",
   "execution_count": 21,
   "id": "cd05d8ba-4ada-4ede-a27c-637e80f1014b",
   "metadata": {},
   "outputs": [],
   "source": [
    "#!wget https://raw.githubusercontent.com/alexeygrigorev/minsearch/main/minsearch.py"
   ]
  },
  {
   "cell_type": "code",
   "execution_count": 23,
   "id": "077cb67e-6337-47e8-bce1-0c75b25893e0",
   "metadata": {},
   "outputs": [
    {
     "data": {
      "text/plain": [
       "Index(['exercise_name', 'type_of_activity', 'type_of_equipment', 'body_part',\n",
       "       'type', 'muscle_groups_activated', 'instructions'],\n",
       "      dtype='object')"
      ]
     },
     "execution_count": 23,
     "metadata": {},
     "output_type": "execute_result"
    }
   ],
   "source": [
    "df.columns"
   ]
  },
  {
   "cell_type": "code",
   "execution_count": 27,
   "id": "46679a4e-5037-4b9a-84a5-017dfb55ee0f",
   "metadata": {},
   "outputs": [],
   "source": [
    "documents = df.to_dict(orient='records')"
   ]
  },
  {
   "cell_type": "code",
   "execution_count": 29,
   "id": "22907692-0013-4035-8004-9a76c1f28797",
   "metadata": {},
   "outputs": [],
   "source": [
    "index = minsearch.Index(\n",
    "    text_fields=['exercise_name', 'type_of_activity', 'type_of_equipment', 'body_part',\n",
    "       'type', 'muscle_groups_activated', 'instructions'],\n",
    "    keyword_fields=[]\n",
    ")"
   ]
  },
  {
   "cell_type": "code",
   "execution_count": 30,
   "id": "e150128b-aff7-4f4b-81e8-4fe3e1296f03",
   "metadata": {},
   "outputs": [
    {
     "data": {
      "text/plain": [
       "<minsearch.Index at 0x79a183d7f860>"
      ]
     },
     "execution_count": 30,
     "metadata": {},
     "output_type": "execute_result"
    }
   ],
   "source": [
    "index.fit(documents)"
   ]
  },
  {
   "cell_type": "code",
   "execution_count": 31,
   "id": "ba12fd63-350e-4bca-8fc1-120c7ee7d82d",
   "metadata": {},
   "outputs": [],
   "source": [
    "query = \"give me leg exercise for hamstring\""
   ]
  },
  {
   "cell_type": "code",
   "execution_count": 51,
   "id": "a4ae7901-c6e4-43e6-9390-aa0e8b2bbf00",
   "metadata": {},
   "outputs": [
    {
     "data": {
      "text/plain": [
       "True"
      ]
     },
     "execution_count": 51,
     "metadata": {},
     "output_type": "execute_result"
    }
   ],
   "source": [
    "load_dotenv()"
   ]
  },
  {
   "cell_type": "code",
   "execution_count": 52,
   "id": "b099d812-9d9f-4a99-b838-fb56c1630ba7",
   "metadata": {},
   "outputs": [],
   "source": [
    "#api_key = os.getenv('OPENAI_API_KEY')\n",
    "api_key=os.environ.get(\"GROQ_API_KEY\")"
   ]
  },
  {
   "cell_type": "code",
   "execution_count": 56,
   "id": "29deb89a-9eec-41d8-bb20-e0465a42676f",
   "metadata": {},
   "outputs": [
    {
     "data": {
      "text/plain": [
       "\"Here are some effective leg exercises that target the hamstrings:\\n\\n1. **Deadlifts**: This compound exercise works multiple muscle groups, including the hamstrings. Stand with your feet shoulder-width apart, bend down and grab a barbell or dumbbells with your hands shoulder-width apart, and lift the weight up to hip level, squeezing your hamstrings at the top.\\n2. **Leg Curls**: This isolation exercise specifically targets the hamstrings. Sit on a leg curl machine with your legs hanging off the edge, and curl your heels up towards your glutes, then lower them back down to the starting position.\\n3. **Glute-Ham Raises**: This exercise targets the hamstrings and glutes. Lie on a flat bench with your knees bent and feet flat on the floor, then lift your hips up towards the ceiling, squeezing your hamstrings and glutes at the top.\\n4. **Romanian Deadlifts (RDLs)**: This exercise targets the hamstrings, glutes, and lower back. Stand with your feet shoulder-width apart, bend down and grab a barbell or dumbbells with your hands shoulder-width apart, and lift the weight up to hip level, keeping your back straight and your knees slightly bent.\\n5. **Lying Leg Curls**: This exercise targets the hamstrings, particularly the biceps femoris. Lie on a flat bench with your legs hanging off the edge, and curl your heels up towards your glutes, then lower them back down to the starting position.\\n6. **Step-Ups**: This exercise targets the hamstrings, glutes, and quads. Stand in front of a step or bench, and step up onto it with one foot, then bring the other foot up to meet it. Step back down to the starting position and repeat with the other leg.\\n7. **Bulgarian Split Squats**: This exercise targets the hamstrings, glutes, and quads. Stand with your back to a bench or chair, and place one foot on the edge of the bench. Bend your front knee and lower your body down until your back knee almost touches the ground, then push back up to the starting position and repeat with the other leg.\\n8. **Nordic Hamstring Curls**: This exercise targets the hamstrings, particularly the biceps femoris. Kneel on the floor with your hands behind your back, and have a partner or a resistance band hold your ankles. Slowly lower your body forward, keeping your knees straight, until you reach a stretch in your hamstrings, then curl your heels up towards your glutes and push back up to the starting position.\\n\\nRemember to start with lighter weights and gradually increase the weight as you become stronger. It's also important to warm up before your workout and stretch after your workout to prevent injury and promote recovery.\""
      ]
     },
     "execution_count": 56,
     "metadata": {},
     "output_type": "execute_result"
    }
   ],
   "source": [
    "client = Groq(\n",
    "    api_key=os.environ.get(\"GROQ_API_KEY\"),\n",
    ")\n",
    "\n",
    "response = client.chat.completions.create(\n",
    "    messages=[\n",
    "        {\n",
    "            \"role\": \"user\",\n",
    "            \"content\": query,\n",
    "        }\n",
    "    ],\n",
    "    model=\"llama-3.3-70b-versatile\",\n",
    ")\n",
    "\n",
    "response.choices[0].message.content"
   ]
  },
  {
   "cell_type": "code",
   "execution_count": 57,
   "id": "cd8d24d2-a4ec-4d84-ab7e-e893e82a6f60",
   "metadata": {},
   "outputs": [],
   "source": [
    "def search(query):\n",
    "    boost = {}\n",
    "\n",
    "    results = index.search(\n",
    "        query=query,\n",
    "        filter_dict={},\n",
    "        boost_dict=boost,\n",
    "        num_results=10\n",
    "    )\n",
    "\n",
    "    return results\n",
    "    \n",
    "def build_prompt(query, search_results):\n",
    "    prompt_template = \"\"\"\n",
    "You're a course teaching assistant. Answer the QUESTION based on the CONTEXT from the FAQ database.\n",
    "Use only the facts from the CONTEXT when answering the QUESTION.\n",
    "\n",
    "QUESTION: {question}\n",
    "\n",
    "CONTEXT: \n",
    "{context}\n",
    "\"\"\".strip()\n",
    "\n",
    "    context = \"\"\n",
    "    \n",
    "    for doc in search_results:\n",
    "        context = context + f\"section: {doc['section']}\\nquestion: {doc['question']}\\nanswer: {doc['text']}\\n\\n\"\n",
    "    \n",
    "    prompt = prompt_template.format(question=query, context=context).strip()\n",
    "    return prompt\n",
    "    \n",
    "def llm(prompt):\n",
    "    response = client.chat.completions.create(\n",
    "        model='gpt-4o',\n",
    "        messages=[{\"role\": \"user\", \"content\": prompt}]\n",
    "    )\n",
    "    \n",
    "    return response.choices[0].message.content"
   ]
  },
  {
   "cell_type": "code",
   "execution_count": 33,
   "id": "820e71ce-55bc-4ad4-a9ce-0a6285f49192",
   "metadata": {},
   "outputs": [
    {
     "data": {
      "text/plain": [
       "[{'exercise_name': 'Dynamic Hamstring Kick',\n",
       "  'type_of_activity': 'Mobility',\n",
       "  'type_of_equipment': 'Bodyweight',\n",
       "  'body_part': 'Lower Body',\n",
       "  'type': 'Stretch',\n",
       "  'muscle_groups_activated': 'Hamstrings, Glutes',\n",
       "  'instructions': 'Kick leg forward while walking to stretch hamstring dynamically.'},\n",
       " {'exercise_name': 'Hamstring Stretch',\n",
       "  'type_of_activity': 'Mobility',\n",
       "  'type_of_equipment': 'Bodyweight',\n",
       "  'body_part': 'Lower Body',\n",
       "  'type': 'Stretch',\n",
       "  'muscle_groups_activated': 'Hamstrings, Calves, Lower Back',\n",
       "  'instructions': 'Sit on the floor, extend one leg forward, reach toward your toes while keeping your back straight.'},\n",
       " {'exercise_name': 'Wall Hamstring Stretch',\n",
       "  'type_of_activity': 'Mobility',\n",
       "  'type_of_equipment': 'Bodyweight',\n",
       "  'body_part': 'Lower Body',\n",
       "  'type': 'Stretch',\n",
       "  'muscle_groups_activated': 'Hamstrings, Calves',\n",
       "  'instructions': 'Lie on back, place leg up against wall, keep it straight to stretch.'},\n",
       " {'exercise_name': 'Supine Hamstring Stretch (Band)',\n",
       "  'type_of_activity': 'Mobility',\n",
       "  'type_of_equipment': 'Resistance Band',\n",
       "  'body_part': 'Lower Body',\n",
       "  'type': 'Stretch',\n",
       "  'muscle_groups_activated': 'Hamstrings, Calves',\n",
       "  'instructions': 'Lie on back, loop band over foot, pull leg toward chest.'},\n",
       " {'exercise_name': 'Band Hamstring Curl',\n",
       "  'type_of_activity': 'Strength',\n",
       "  'type_of_equipment': 'Resistance Band',\n",
       "  'body_part': 'Lower Body',\n",
       "  'type': 'Pull',\n",
       "  'muscle_groups_activated': 'Hamstrings, Glutes',\n",
       "  'instructions': 'Anchor band behind, curl heel toward glutes while keeping hips stable.'},\n",
       " {'exercise_name': 'Side Plank with Leg Raise',\n",
       "  'type_of_activity': 'Strength',\n",
       "  'type_of_equipment': 'Bodyweight',\n",
       "  'body_part': 'Core',\n",
       "  'type': 'Hold',\n",
       "  'muscle_groups_activated': 'Obliques, Glutes, Adductors',\n",
       "  'instructions': 'Hold side plank, lift top leg upward and hold.'},\n",
       " {'exercise_name': 'Side Lying Leg Lift',\n",
       "  'type_of_activity': 'Strength',\n",
       "  'type_of_equipment': 'Bodyweight',\n",
       "  'body_part': 'Lower Body',\n",
       "  'type': 'Push',\n",
       "  'muscle_groups_activated': 'Glutes, Hip Abductors',\n",
       "  'instructions': 'Lie on your side, lift top leg up and down slowly, keeping it straight.'},\n",
       " {'exercise_name': 'Side-Lying Leg Lift',\n",
       "  'type_of_activity': 'Mobility',\n",
       "  'type_of_equipment': 'Bodyweight',\n",
       "  'body_part': 'Lower Body',\n",
       "  'type': 'Push',\n",
       "  'muscle_groups_activated': 'Abductors, Glutes',\n",
       "  'instructions': 'Lie on one side, lift top leg upward while keeping it straight, then lower slowly.'},\n",
       " {'exercise_name': 'Leg Raises',\n",
       "  'type_of_activity': 'Mobility',\n",
       "  'type_of_equipment': 'Bodyweight',\n",
       "  'body_part': 'Core',\n",
       "  'type': 'Hold',\n",
       "  'muscle_groups_activated': 'Lower Abs, Hip Flexors',\n",
       "  'instructions': 'Lie on your back, lift legs together upward, then slowly lower without touching the floor.'},\n",
       " {'exercise_name': 'Side-Lying Leg Circles',\n",
       "  'type_of_activity': 'Mobility',\n",
       "  'type_of_equipment': 'Bodyweight',\n",
       "  'body_part': 'Lower Body',\n",
       "  'type': 'Stretch',\n",
       "  'muscle_groups_activated': 'Glutes, Hip Rotators',\n",
       "  'instructions': 'Lie on side, lift top leg and perform slow controlled circles.'}]"
      ]
     },
     "execution_count": 33,
     "metadata": {},
     "output_type": "execute_result"
    }
   ],
   "source": [
    "index.search(query, num_results=10)"
   ]
  },
  {
   "cell_type": "code",
   "execution_count": null,
   "id": "ec6ee84d-5e24-4f30-be1f-76d116ce5363",
   "metadata": {},
   "outputs": [],
   "source": []
  }
 ],
 "metadata": {
  "kernelspec": {
   "display_name": "Python 3 (ipykernel)",
   "language": "python",
   "name": "python3"
  },
  "language_info": {
   "codemirror_mode": {
    "name": "ipython",
    "version": 3
   },
   "file_extension": ".py",
   "mimetype": "text/x-python",
   "name": "python",
   "nbconvert_exporter": "python",
   "pygments_lexer": "ipython3",
   "version": "3.12.1"
  }
 },
 "nbformat": 4,
 "nbformat_minor": 5
}
