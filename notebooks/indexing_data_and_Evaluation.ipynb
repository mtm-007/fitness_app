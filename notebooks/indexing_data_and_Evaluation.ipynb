{
 "cells": [
  {
   "cell_type": "code",
   "execution_count": 44,
   "id": "7352d137-fe60-4d1c-af1d-34681374443d",
   "metadata": {},
   "outputs": [],
   "source": [
    "import os\n",
    "import pandas as pd\n",
    "from openai import OpenAI\n",
    "from dotenv import load_dotenv\n",
    "from groq import Groq\n",
    "import openai\n",
    "import json\n",
    "from tqdm.auto import tqdm"
   ]
  },
  {
   "cell_type": "code",
   "execution_count": 2,
   "id": "ad7c4829-dab2-44bb-900c-840cc812f7a2",
   "metadata": {},
   "outputs": [],
   "source": [
    "import minsearch"
   ]
  },
  {
   "cell_type": "markdown",
   "id": "67fa9446-d3ab-4df2-8978-4bb237644114",
   "metadata": {},
   "source": [
    "## Ingestion"
   ]
  },
  {
   "cell_type": "code",
   "execution_count": 3,
   "id": "f5740e33-9d22-42cf-9525-bcd15e2ef131",
   "metadata": {},
   "outputs": [],
   "source": [
    "df = pd.read_csv('../data/data.csv')"
   ]
  },
  {
   "cell_type": "code",
   "execution_count": 4,
   "id": "46679a4e-5037-4b9a-84a5-017dfb55ee0f",
   "metadata": {},
   "outputs": [],
   "source": [
    "documents = df.to_dict(orient='records')"
   ]
  },
  {
   "cell_type": "code",
   "execution_count": 5,
   "id": "22907692-0013-4035-8004-9a76c1f28797",
   "metadata": {},
   "outputs": [],
   "source": [
    "index = minsearch.Index(\n",
    "    text_fields=['exercise_name', 'type_of_activity', 'type_of_equipment', 'body_part',\n",
    "       'type', 'muscle_groups_activated', 'instructions'],\n",
    "    keyword_fields=['id']\n",
    ")"
   ]
  },
  {
   "cell_type": "code",
   "execution_count": 6,
   "id": "e150128b-aff7-4f4b-81e8-4fe3e1296f03",
   "metadata": {},
   "outputs": [
    {
     "data": {
      "text/plain": [
       "<minsearch.Index at 0x7fb4376c81f0>"
      ]
     },
     "execution_count": 6,
     "metadata": {},
     "output_type": "execute_result"
    }
   ],
   "source": [
    "index.fit(documents)"
   ]
  },
  {
   "cell_type": "markdown",
   "id": "204dfd77-060f-419e-ac0c-2d095dcd7adb",
   "metadata": {},
   "source": [
    "## Rag Flow"
   ]
  },
  {
   "cell_type": "code",
   "execution_count": 7,
   "id": "a4ae7901-c6e4-43e6-9390-aa0e8b2bbf00",
   "metadata": {},
   "outputs": [
    {
     "data": {
      "text/plain": [
       "True"
      ]
     },
     "execution_count": 7,
     "metadata": {},
     "output_type": "execute_result"
    }
   ],
   "source": [
    "load_dotenv()"
   ]
  },
  {
   "cell_type": "code",
   "execution_count": 8,
   "id": "ea17c96f-cd47-4a9c-a139-88b01ea06d3e",
   "metadata": {},
   "outputs": [],
   "source": [
    "client = OpenAI()"
   ]
  },
  {
   "cell_type": "code",
   "execution_count": 9,
   "id": "b099d812-9d9f-4a99-b838-fb56c1630ba7",
   "metadata": {},
   "outputs": [],
   "source": [
    "# client = Groq(\n",
    "#     api_key=os.environ.get(\"GROQ_API_KEY\"),\n",
    "# )"
   ]
  },
  {
   "cell_type": "code",
   "execution_count": 10,
   "id": "538d4d10-266f-4d75-8138-f91b27db6e0e",
   "metadata": {},
   "outputs": [],
   "source": [
    "def search(query):\n",
    "    boost = {}\n",
    "\n",
    "    results = index.search(\n",
    "        query=query,\n",
    "        filter_dict={},\n",
    "        boost_dict=boost,\n",
    "        num_results=10\n",
    "    )\n",
    "\n",
    "    return results"
   ]
  },
  {
   "cell_type": "code",
   "execution_count": 11,
   "id": "cd8d24d2-a4ec-4d84-ab7e-e893e82a6f60",
   "metadata": {},
   "outputs": [],
   "source": [
    "prompt_template = \"\"\"\n",
    "You're a fitness instructor. Answer the QUESTION based on the CONTEXT from our exercises database.\n",
    "Use only the facts from the CONTEXT when answering the QUESTION.\n",
    "\n",
    "QUESTION: {question}\n",
    "\n",
    "CONTEXT: \n",
    "{context}\n",
    "\"\"\".strip()\n",
    "\n",
    "entry_template = \"\"\" \n",
    "exercise_name : {exercise_name}\n",
    "type_of_activity : {type_of_activity}\n",
    "type_of_equipment : {type_of_equipment}\n",
    "body_part : {body_part}\n",
    "type : {type}\n",
    "muscle_groups_activated : {muscle_groups_activated}\n",
    "instructions : {instructions}\n",
    "\"\"\".strip()\n",
    "    \n",
    "def build_prompt(query, search_results):\n",
    "    \n",
    "    context = \"\"\n",
    "    \n",
    "    for doc in search_results:\n",
    "        context = context + entry_template.format(**doc) + \"\\n\\n\"\n",
    "    \n",
    "    prompt = prompt_template.format(question=query, context=context).strip()\n",
    "    return prompt\n"
   ]
  },
  {
   "cell_type": "code",
   "execution_count": 12,
   "id": "ba12fd63-350e-4bca-8fc1-120c7ee7d82d",
   "metadata": {},
   "outputs": [],
   "source": [
    "query =  \"Can you explain how to do a Glute Bridge, I'm not sure about the movement.\""
   ]
  },
  {
   "cell_type": "code",
   "execution_count": 13,
   "id": "06ad8d50-8568-4751-a65d-87d5394d7c7b",
   "metadata": {},
   "outputs": [],
   "source": [
    "search_results = search(query)\n",
    "prompt = build_prompt(query, search_results)"
   ]
  },
  {
   "cell_type": "code",
   "execution_count": 53,
   "id": "c294bc29-2763-4c08-8298-fd80e320633d",
   "metadata": {},
   "outputs": [],
   "source": [
    "def llm(prompt, model=\"gpt-4o-mini\"):\n",
    "    response = client.chat.completions.create(\n",
    "        model=model,\n",
    "        messages=[{\"role\": \"user\", \"content\": prompt}]\n",
    "    )\n",
    "    \n",
    "    return response.choices[0].message.content"
   ]
  },
  {
   "cell_type": "code",
   "execution_count": 54,
   "id": "eee60ca5-6c88-4035-a2f6-190c462e4923",
   "metadata": {},
   "outputs": [],
   "source": [
    "def rag(query, model=\"gpt-4o-mini\",):\n",
    "    search_results = search(query)\n",
    "    prompt = build_prompt(query, search_results)\n",
    "    answer = llm(prompt, model=model)\n",
    "    return answer"
   ]
  },
  {
   "cell_type": "code",
   "execution_count": 16,
   "id": "7be7b1f0-27d6-4fe2-af16-feb1b1526d05",
   "metadata": {},
   "outputs": [
    {
     "name": "stdout",
     "output_type": "stream",
     "text": [
      "The specific muscle groups predominantly activated during the Cable Face Pull exercise are the Rear Delts, Traps, and Upper Back.\n"
     ]
    }
   ],
   "source": [
    "answer = rag(\"What specific muscle groups are predominantly activated during the Cable Face Pull exercise?\")\n",
    "print(answer)"
   ]
  },
  {
   "cell_type": "markdown",
   "id": "98f0d794-1b38-4c1b-ab9a-b6fb7584d7e1",
   "metadata": {},
   "source": [
    "### Retrieval Evaluation"
   ]
  },
  {
   "cell_type": "code",
   "execution_count": 17,
   "id": "ecf7a59e-8baf-46e2-bc3c-9562b5d4b524",
   "metadata": {},
   "outputs": [],
   "source": [
    "df_questions = pd.read_csv('../data/ground_truth_retrieval.csv')"
   ]
  },
  {
   "cell_type": "code",
   "execution_count": 38,
   "id": "f2265ac2-90ee-4bde-8f3e-89025a4fc5cc",
   "metadata": {},
   "outputs": [
    {
     "data": {
      "text/html": [
       "<div>\n",
       "<style scoped>\n",
       "    .dataframe tbody tr th:only-of-type {\n",
       "        vertical-align: middle;\n",
       "    }\n",
       "\n",
       "    .dataframe tbody tr th {\n",
       "        vertical-align: top;\n",
       "    }\n",
       "\n",
       "    .dataframe thead th {\n",
       "        text-align: right;\n",
       "    }\n",
       "</style>\n",
       "<table border=\"1\" class=\"dataframe\">\n",
       "  <thead>\n",
       "    <tr style=\"text-align: right;\">\n",
       "      <th></th>\n",
       "      <th>id</th>\n",
       "      <th>question</th>\n",
       "    </tr>\n",
       "  </thead>\n",
       "  <tbody>\n",
       "    <tr>\n",
       "      <th>0</th>\n",
       "      <td>0</td>\n",
       "      <td>What is the starting position for a push-up?</td>\n",
       "    </tr>\n",
       "    <tr>\n",
       "      <th>1</th>\n",
       "      <td>0</td>\n",
       "      <td>Which muscle groups are activated during push-...</td>\n",
       "    </tr>\n",
       "    <tr>\n",
       "      <th>2</th>\n",
       "      <td>0</td>\n",
       "      <td>What type of exercise is a push-up classified as?</td>\n",
       "    </tr>\n",
       "    <tr>\n",
       "      <th>3</th>\n",
       "      <td>0</td>\n",
       "      <td>Do I need any equipment to perform push-ups?</td>\n",
       "    </tr>\n",
       "    <tr>\n",
       "      <th>4</th>\n",
       "      <td>0</td>\n",
       "      <td>What is the correct form for lowering my body ...</td>\n",
       "    </tr>\n",
       "  </tbody>\n",
       "</table>\n",
       "</div>"
      ],
      "text/plain": [
       "   id                                           question\n",
       "0   0       What is the starting position for a push-up?\n",
       "1   0  Which muscle groups are activated during push-...\n",
       "2   0  What type of exercise is a push-up classified as?\n",
       "3   0       Do I need any equipment to perform push-ups?\n",
       "4   0  What is the correct form for lowering my body ..."
      ]
     },
     "execution_count": 38,
     "metadata": {},
     "output_type": "execute_result"
    }
   ],
   "source": [
    "df_questions.head()"
   ]
  },
  {
   "cell_type": "code",
   "execution_count": 19,
   "id": "604c8b6c-7675-42b3-a83f-611b9c55f085",
   "metadata": {},
   "outputs": [],
   "source": [
    "ground_truth = df_questions.to_dict(orient=\"records\")"
   ]
  },
  {
   "cell_type": "code",
   "execution_count": 20,
   "id": "829712d6-2cfb-49dc-b4bc-0064a406de01",
   "metadata": {},
   "outputs": [
    {
     "data": {
      "text/plain": [
       "{'id': 0, 'question': 'What is the starting position for a push-up?'}"
      ]
     },
     "execution_count": 20,
     "metadata": {},
     "output_type": "execute_result"
    }
   ],
   "source": [
    "ground_truth[0]"
   ]
  },
  {
   "cell_type": "code",
   "execution_count": 21,
   "id": "8b2fbbe0-9410-4fd6-a0d6-03f961726723",
   "metadata": {},
   "outputs": [],
   "source": [
    "def hit_rate(relevance_input):\n",
    "    cnt = 0\n",
    "    for line in relevance_input:\n",
    "        if True in line:\n",
    "            cnt = cnt + 1\n",
    "            \n",
    "    return cnt / len(relevance_input)"
   ]
  },
  {
   "cell_type": "code",
   "execution_count": 22,
   "id": "e88f9246-c83a-4445-a7f7-8fcce4c895b6",
   "metadata": {},
   "outputs": [],
   "source": [
    "def mrr(relavance_input):\n",
    "    total_score = 0\n",
    "\n",
    "    for line in relavance_input:\n",
    "        for rank in range(len(line)):\n",
    "            if line[rank] == True:\n",
    "                total_score = total_score + 1 / (rank + 1)\n",
    "\n",
    "    return total_score / len(relavance_input)"
   ]
  },
  {
   "cell_type": "code",
   "execution_count": 23,
   "id": "f7191f70-1489-458c-a03a-b5109f467271",
   "metadata": {},
   "outputs": [],
   "source": [
    "def minsearch_search(query):\n",
    "    boost = {}\n",
    "\n",
    "    results = index.search(\n",
    "        query=query,\n",
    "        filter_dict={},\n",
    "        boost_dict=boost,\n",
    "        num_results=10\n",
    "    )\n",
    "\n",
    "    return results"
   ]
  },
  {
   "cell_type": "code",
   "execution_count": 24,
   "id": "95819b5b-aa59-4987-adcd-e3201c34cbbc",
   "metadata": {},
   "outputs": [],
   "source": [
    "def evaluate(ground_truth, search_function):\n",
    "    relevance_total = []\n",
    "\n",
    "    for q in tqdm(ground_truth):\n",
    "        doc_id = q['id']\n",
    "        results = search_function(q)\n",
    "        relevance = [d['id'] == doc_id for d in results]\n",
    "        relevance_total.append(relevance)\n",
    "\n",
    "    return {\n",
    "        'hit_rate': hit_rate(relevance_total),\n",
    "        'mrr': mrr(relevance_total),\n",
    "    }"
   ]
  },
  {
   "cell_type": "code",
   "execution_count": 44,
   "id": "e29dde9a-b5c2-4fd5-b27a-dd65a1a5c8ba",
   "metadata": {},
   "outputs": [
    {
     "data": {
      "application/vnd.jupyter.widget-view+json": {
       "model_id": "3138a57acddf45669a03e09f250776f4",
       "version_major": 2,
       "version_minor": 0
      },
      "text/plain": [
       "  0%|          | 0/1300 [00:00<?, ?it/s]"
      ]
     },
     "metadata": {},
     "output_type": "display_data"
    },
    {
     "data": {
      "text/plain": [
       "{'hit_rate': 0.9346153846153846, 'mrr': 0.7993296703296706}"
      ]
     },
     "execution_count": 44,
     "metadata": {},
     "output_type": "execute_result"
    }
   ],
   "source": [
    "evaluate(ground_truth, lambda q: minsearch_search(q['question']))"
   ]
  },
  {
   "cell_type": "markdown",
   "id": "633ce200-6449-4ab3-948c-df244b198d04",
   "metadata": {},
   "source": [
    "#### Finding the best parameters"
   ]
  },
  {
   "cell_type": "code",
   "execution_count": 25,
   "id": "f9eafda6-6116-4924-b3d3-4a53404697d5",
   "metadata": {},
   "outputs": [],
   "source": [
    "df_Validation = df_questions[:100]"
   ]
  },
  {
   "cell_type": "code",
   "execution_count": 26,
   "id": "c1d72100-6a2e-4e79-a257-33d24fb65dc3",
   "metadata": {},
   "outputs": [],
   "source": [
    "import random\n",
    "\n",
    "def simple_optimize(param_ranges, objective_function, n_iterations =10):\n",
    "    best_params = None\n",
    "    best_score = float('-inf')\n",
    "\n",
    "    for _ in range(n_iterations):\n",
    "        #Generate random parameters\n",
    "        current_params = {}\n",
    "\n",
    "        for param, (min_val, max_val) in param_ranges.items():\n",
    "            if isinstance(min_val, int) and isinstance(max_val, int):\n",
    "                current_params[param] = random.randint(min_val, max_val)\n",
    "            else:\n",
    "                current_params[param] = random.uniform(min_val, max_val)\n",
    "        #Evaluate objective function\n",
    "        current_score = objective_function(current_params)\n",
    "\n",
    "\n",
    "        #update best if current is better\n",
    "        if current_score > best_score: #change to > if maximizing\n",
    "            best_score = current_score\n",
    "            best_params = current_params\n",
    "\n",
    "    return best_params, best_score"
   ]
  },
  {
   "cell_type": "code",
   "execution_count": 27,
   "id": "f113f6fd-0610-449c-a718-ee4af4ea97da",
   "metadata": {},
   "outputs": [],
   "source": [
    "gt_val = df_Validation.to_dict(orient=\"records\")"
   ]
  },
  {
   "cell_type": "code",
   "execution_count": 28,
   "id": "2b9fce29-b540-4b3a-8f0a-67ccb2b10aa0",
   "metadata": {},
   "outputs": [],
   "source": [
    "def minsearch_search(query, boost= None):\n",
    "    if boost is None:\n",
    "        boost = {}\n",
    "\n",
    "    results = index.search(\n",
    "        query=query,\n",
    "        filter_dict={},\n",
    "        boost_dict=boost,\n",
    "        num_results=10\n",
    "    )\n",
    "\n",
    "    return results"
   ]
  },
  {
   "cell_type": "code",
   "execution_count": 29,
   "id": "3a87430c-df81-4d8c-8e76-ce25df4654d3",
   "metadata": {},
   "outputs": [],
   "source": [
    "param_ranges = {\n",
    "    'exercise_name': (0.0, 3.0),\n",
    "     'type_of_activity': (0.0, 3.0),\n",
    "     'type_of_equipment': (0.0, 3.0),\n",
    "     'body_part': (0.0, 3.0),\n",
    "     'type': (0.0, 3.0),\n",
    "     'muscle_groups_activated': (0.0, 3.0),\n",
    "     'instructions': (0.0, 3.0),\n",
    "}\n",
    "\n",
    "def objective(boost_params):\n",
    "    def search_function(q):\n",
    "        return minsearch_search(q['question'], boost_params)\n",
    "                                \n",
    "    results = evaluate(gt_val, search_function)\n",
    "    #return results['mrr']\n",
    "    return results['hit_rate']"
   ]
  },
  {
   "cell_type": "code",
   "execution_count": 30,
   "id": "e9d06572-5f7d-492b-b4d8-ec4d5fa1682c",
   "metadata": {},
   "outputs": [
    {
     "data": {
      "application/vnd.jupyter.widget-view+json": {
       "model_id": "be2c2b5be3764b229ceb3807c078161f",
       "version_major": 2,
       "version_minor": 0
      },
      "text/plain": [
       "  0%|          | 0/100 [00:00<?, ?it/s]"
      ]
     },
     "metadata": {},
     "output_type": "display_data"
    },
    {
     "data": {
      "application/vnd.jupyter.widget-view+json": {
       "model_id": "2da261ba448b4f549cbadadda1351cb6",
       "version_major": 2,
       "version_minor": 0
      },
      "text/plain": [
       "  0%|          | 0/100 [00:00<?, ?it/s]"
      ]
     },
     "metadata": {},
     "output_type": "display_data"
    },
    {
     "data": {
      "application/vnd.jupyter.widget-view+json": {
       "model_id": "4350937ffa9144cd986d730bb0132483",
       "version_major": 2,
       "version_minor": 0
      },
      "text/plain": [
       "  0%|          | 0/100 [00:00<?, ?it/s]"
      ]
     },
     "metadata": {},
     "output_type": "display_data"
    },
    {
     "data": {
      "application/vnd.jupyter.widget-view+json": {
       "model_id": "d440f9cfbb054ed083cb007d3c6526e8",
       "version_major": 2,
       "version_minor": 0
      },
      "text/plain": [
       "  0%|          | 0/100 [00:00<?, ?it/s]"
      ]
     },
     "metadata": {},
     "output_type": "display_data"
    },
    {
     "data": {
      "application/vnd.jupyter.widget-view+json": {
       "model_id": "fb511a4757bc48fe9a38edf3f6a01676",
       "version_major": 2,
       "version_minor": 0
      },
      "text/plain": [
       "  0%|          | 0/100 [00:00<?, ?it/s]"
      ]
     },
     "metadata": {},
     "output_type": "display_data"
    },
    {
     "data": {
      "application/vnd.jupyter.widget-view+json": {
       "model_id": "1c28d06bb3fd4231bcfbf365ef6d72cd",
       "version_major": 2,
       "version_minor": 0
      },
      "text/plain": [
       "  0%|          | 0/100 [00:00<?, ?it/s]"
      ]
     },
     "metadata": {},
     "output_type": "display_data"
    },
    {
     "data": {
      "application/vnd.jupyter.widget-view+json": {
       "model_id": "0d987a4054364124a49cbc327021f5d9",
       "version_major": 2,
       "version_minor": 0
      },
      "text/plain": [
       "  0%|          | 0/100 [00:00<?, ?it/s]"
      ]
     },
     "metadata": {},
     "output_type": "display_data"
    },
    {
     "data": {
      "application/vnd.jupyter.widget-view+json": {
       "model_id": "85efac0d226b4c91ba5c546cdcd9d2fc",
       "version_major": 2,
       "version_minor": 0
      },
      "text/plain": [
       "  0%|          | 0/100 [00:00<?, ?it/s]"
      ]
     },
     "metadata": {},
     "output_type": "display_data"
    },
    {
     "data": {
      "application/vnd.jupyter.widget-view+json": {
       "model_id": "751b3486ccb34053aeffa786414747a4",
       "version_major": 2,
       "version_minor": 0
      },
      "text/plain": [
       "  0%|          | 0/100 [00:00<?, ?it/s]"
      ]
     },
     "metadata": {},
     "output_type": "display_data"
    },
    {
     "data": {
      "application/vnd.jupyter.widget-view+json": {
       "model_id": "12e0ee72076f431d855503dc3522c676",
       "version_major": 2,
       "version_minor": 0
      },
      "text/plain": [
       "  0%|          | 0/100 [00:00<?, ?it/s]"
      ]
     },
     "metadata": {},
     "output_type": "display_data"
    },
    {
     "data": {
      "text/plain": [
       "({'exercise_name': 2.748814222971305,\n",
       "  'type_of_activity': 0.45441801967546935,\n",
       "  'type_of_equipment': 1.0662915487547175,\n",
       "  'body_part': 0.09483258455313393,\n",
       "  'type': 2.404566536752043,\n",
       "  'muscle_groups_activated': 0.5806360412150631,\n",
       "  'instructions': 1.666090730933937},\n",
       " 0.97)"
      ]
     },
     "execution_count": 30,
     "metadata": {},
     "output_type": "execute_result"
    }
   ],
   "source": [
    "simple_optimize(param_ranges, objective, n_iterations =10)"
   ]
  },
  {
   "cell_type": "markdown",
   "id": "53caec28-dfab-4c86-b6c1-22e3adefb56c",
   "metadata": {},
   "source": [
    " ({'exercise_name': 3,  \n",
    "  'type_of_activity': 0,  \n",
    "  'type_of_equipment': 0,  \n",
    "  'body_part': 2,  \n",
    "  'type': 1,  \n",
    "  'muscle_groups_activated': 3,  \n",
    "  'instructions': 0},  \n",
    " 0.8690833333333333)  "
   ]
  },
  {
   "cell_type": "code",
   "execution_count": 34,
   "id": "89c7b833-47e5-440a-8f5b-58c247f7bdf1",
   "metadata": {},
   "outputs": [
    {
     "data": {
      "application/vnd.jupyter.widget-view+json": {
       "model_id": "e0b01d5823e74cf88227ef24134fedcc",
       "version_major": 2,
       "version_minor": 0
      },
      "text/plain": [
       "  0%|          | 0/1300 [00:00<?, ?it/s]"
      ]
     },
     "metadata": {},
     "output_type": "display_data"
    },
    {
     "data": {
      "text/plain": [
       "{'hit_rate': 0.9453846153846154, 'mrr': 0.8690955433455434}"
      ]
     },
     "execution_count": 34,
     "metadata": {},
     "output_type": "execute_result"
    }
   ],
   "source": [
    "def minsearch_improved(query):\n",
    "    boost = {\n",
    "    \n",
    "    'exercise_name': 2.74,\n",
    "    'type_of_activity': 0.45,\n",
    "    'type_of_equipment': 1.06,\n",
    "    'body_part': 0.094,\n",
    "    'type': 2.40,\n",
    "    'muscle_groups_activated': 0.58,\n",
    "    'instructions': 1.66\n",
    "    }\n",
    "\n",
    "\n",
    "    results = index.search(\n",
    "        query=query,\n",
    "        filter_dict={},\n",
    "        boost_dict=boost,\n",
    "        num_results=10\n",
    "    )\n",
    "\n",
    "    return results\n",
    "\n",
    "evaluate(ground_truth, lambda q: minsearch_improved(q['question']))"
   ]
  },
  {
   "cell_type": "code",
   "execution_count": 30,
   "id": "56239ac1-b382-4ee9-a93d-0eaa5e3a91ea",
   "metadata": {},
   "outputs": [
    {
     "data": {
      "text/plain": [
       "{'hit_rate': 0.946923076923077, 'mrr': 0.868453296703297}"
      ]
     },
     "execution_count": 30,
     "metadata": {},
     "output_type": "execute_result"
    }
   ],
   "source": [
    "{'hit_rate': 0.946923076923077, 'mrr': 0.868453296703297}"
   ]
  },
  {
   "cell_type": "markdown",
   "id": "ffcddf47-3378-4c9f-9946-49fc8c8d41d2",
   "metadata": {},
   "source": [
    "### Rag Evaluation\n",
    "#### LLM As a Judge"
   ]
  },
  {
   "cell_type": "code",
   "execution_count": 31,
   "id": "be587c02-5c5b-4c00-bd4d-96644dd8b850",
   "metadata": {},
   "outputs": [],
   "source": [
    "prompt2_template = \"\"\"\n",
    "You are an expert evaluator for a RAG system.\n",
    "Your task is to analyze the relevance of the generated answer to the given question.\n",
    "Based on the relevance of the generated answer, you will classify it\n",
    "as \"NON_RELEVANT\", \"PARTLY_RELEVANT\", or \"RELEVANT\".\n",
    "\n",
    "Here is the data for evaluation:\n",
    "\n",
    "Question: {question}\n",
    "Generated Answer: {answer_llm}\n",
    "\n",
    "Please analyze the content and context of the generated answer in relation to the question\n",
    "and provide your evaluation in parsable JSON without using code blocks:\n",
    "\n",
    "{{\n",
    "  \"Relevance\": \"NON_RELEVANT\" | \"PARTLY_RELEVANT\" | \"RELEVANT\",\n",
    "  \"Explanation\": \"[Provide a brief explanation for your evaluation]\"\n",
    "}}\n",
    "\"\"\".strip()"
   ]
  },
  {
   "cell_type": "code",
   "execution_count": 34,
   "id": "a853841e-5417-4163-b30f-1a45250cc69e",
   "metadata": {},
   "outputs": [],
   "source": [
    "record = ground_truth[0]\n",
    "question = record['question']\n",
    "answer_llm = rag(question)"
   ]
  },
  {
   "cell_type": "code",
   "execution_count": 35,
   "id": "672c9e06-fca2-4491-be7b-555a40f22483",
   "metadata": {},
   "outputs": [
    {
     "name": "stdout",
     "output_type": "stream",
     "text": [
      "The starting position for a push-up is to begin in a plank position.\n"
     ]
    }
   ],
   "source": [
    "print(answer_llm)"
   ]
  },
  {
   "cell_type": "code",
   "execution_count": 36,
   "id": "c405aca4-93aa-4e09-8054-ccccecd7651c",
   "metadata": {},
   "outputs": [
    {
     "name": "stdout",
     "output_type": "stream",
     "text": [
      "You are an expert evaluator for a RAG system.\n",
      "Your task is to analyze the relevance of the generated answer to the given question.\n",
      "Based on the relevance of the generated answer, you will classify it\n",
      "as \"NON_RELEVANT\", \"PARTLY_RELEVANT\", or \"RELEVANT\".\n",
      "\n",
      "Here is the data for evaluation:\n",
      "\n",
      "Question: What is the starting position for a push-up?\n",
      "Generated Answer: The starting position for a push-up is to begin in a plank position.\n",
      "\n",
      "Please analyze the content and context of the generated answer in relation to the question\n",
      "and provide your evaluation in parsable JSON without using code blocks:\n",
      "\n",
      "{\n",
      "  \"Relevance\": \"NON_RELEVANT\" | \"PARTLY_RELEVANT\" | \"RELEVANT\",\n",
      "  \"Explanation\": \"[Provide a brief explanation for your evaluation]\"\n",
      "}\n"
     ]
    }
   ],
   "source": [
    "prompt = prompt2_template.format(question = question, answer_llm= answer_llm)\n",
    "print(prompt)"
   ]
  },
  {
   "cell_type": "code",
   "execution_count": 37,
   "id": "0eb912d9-d363-4427-bb97-4f0460b9e95e",
   "metadata": {},
   "outputs": [
    {
     "data": {
      "text/plain": [
       "'{\\n  \"Relevance\": \"RELEVANT\",\\n  \"Explanation\": \"The generated answer accurately describes the starting position for a push-up as a plank position, which directly addresses the question.\"\\n}'"
      ]
     },
     "execution_count": 37,
     "metadata": {},
     "output_type": "execute_result"
    }
   ],
   "source": [
    "llm(prompt)"
   ]
  },
  {
   "cell_type": "code",
   "execution_count": 50,
   "id": "2a26f61e-cb04-430f-bc60-fbc5b231e02a",
   "metadata": {},
   "outputs": [],
   "source": [
    "df_sample = df_questions.sample(n=200, random_state =1)"
   ]
  },
  {
   "cell_type": "code",
   "execution_count": 51,
   "id": "174c137d-6abf-4390-9a22-b54fc8a1e4cc",
   "metadata": {},
   "outputs": [],
   "source": [
    "sample = df_sample.to_dict(orient=\"records\")"
   ]
  },
  {
   "cell_type": "code",
   "execution_count": 52,
   "id": "de427991-f02f-40ec-bda5-e747c8bab946",
   "metadata": {},
   "outputs": [
    {
     "data": {
      "application/vnd.jupyter.widget-view+json": {
       "model_id": "618251ecff8b44cc869a3459fa1dd5b8",
       "version_major": 2,
       "version_minor": 0
      },
      "text/plain": [
       "  0%|          | 0/200 [00:00<?, ?it/s]"
      ]
     },
     "metadata": {},
     "output_type": "display_data"
    }
   ],
   "source": [
    "evaluations = []\n",
    "\n",
    "for record in tqdm(sample):\n",
    "    question = record['question']\n",
    "    answer_llm = rag(question)\n",
    "\n",
    "    prompt = prompt2_template.format(\n",
    "        question = question, \n",
    "        answer_llm= answer_llm\n",
    "    )\n",
    "    evaluation = llm(prompt)\n",
    "    evaluation = json.loads(evaluation)\n",
    "\n",
    "    evaluations.append((record, answer_llm, evaluation))"
   ]
  },
  {
   "cell_type": "code",
   "execution_count": 55,
   "id": "939ab726-77c6-47b5-85bd-dad9ae6d144a",
   "metadata": {},
   "outputs": [],
   "source": [
    "df_eval = pd.DataFrame(evaluations, columns = ['record', 'answer', 'evaluation'])"
   ]
  },
  {
   "cell_type": "code",
   "execution_count": 60,
   "id": "9575e498-4593-47db-a530-bc07374dafb0",
   "metadata": {},
   "outputs": [],
   "source": [
    "df_eval['id'] = df_eval.record.apply(lambda d: d['id'])\n",
    "df_eval['question'] = df_eval.record.apply(lambda d: d['question'])\n",
    "\n",
    "df_eval['relevance'] = df_eval.evaluation.apply(lambda d: d['Relevance'])\n",
    "df_eval['explanation'] = df_eval.evaluation.apply(lambda d: d['Explanation'])"
   ]
  },
  {
   "cell_type": "code",
   "execution_count": 62,
   "id": "c225d2ba-3090-4133-9a2a-23a3309d87bc",
   "metadata": {},
   "outputs": [],
   "source": [
    "del df_eval['record']\n",
    "del df_eval['evaluation']"
   ]
  },
  {
   "cell_type": "code",
   "execution_count": 66,
   "id": "b9514ba1-eceb-45a8-9a81-074bc45a532b",
   "metadata": {},
   "outputs": [
    {
     "data": {
      "text/plain": [
       "relevance\n",
       "RELEVANT           0.845\n",
       "PARTLY_RELEVANT    0.150\n",
       "NON_RELEVANT       0.005\n",
       "Name: proportion, dtype: float64"
      ]
     },
     "execution_count": 66,
     "metadata": {},
     "output_type": "execute_result"
    }
   ],
   "source": [
    "df_eval.relevance.value_counts(normalize=True)"
   ]
  },
  {
   "cell_type": "code",
   "execution_count": 65,
   "id": "05b95aa2-c510-4eff-82d9-623b9beffe85",
   "metadata": {},
   "outputs": [
    {
     "data": {
      "text/html": [
       "<div>\n",
       "<style scoped>\n",
       "    .dataframe tbody tr th:only-of-type {\n",
       "        vertical-align: middle;\n",
       "    }\n",
       "\n",
       "    .dataframe tbody tr th {\n",
       "        vertical-align: top;\n",
       "    }\n",
       "\n",
       "    .dataframe thead th {\n",
       "        text-align: right;\n",
       "    }\n",
       "</style>\n",
       "<table border=\"1\" class=\"dataframe\">\n",
       "  <thead>\n",
       "    <tr style=\"text-align: right;\">\n",
       "      <th></th>\n",
       "      <th>answer</th>\n",
       "      <th>id</th>\n",
       "      <th>question</th>\n",
       "      <th>relevance</th>\n",
       "      <th>explanation</th>\n",
       "    </tr>\n",
       "  </thead>\n",
       "  <tbody>\n",
       "    <tr>\n",
       "      <th>55</th>\n",
       "      <td>The Banded Lateral Walk is a push exercise type.</td>\n",
       "      <td>105</td>\n",
       "      <td>Is the Banded Lateral Walk a push or pull exer...</td>\n",
       "      <td>NON_RELEVANT</td>\n",
       "      <td>The generated answer incorrectly classifies th...</td>\n",
       "    </tr>\n",
       "  </tbody>\n",
       "</table>\n",
       "</div>"
      ],
      "text/plain": [
       "                                              answer   id  \\\n",
       "55  The Banded Lateral Walk is a push exercise type.  105   \n",
       "\n",
       "                                             question     relevance  \\\n",
       "55  Is the Banded Lateral Walk a push or pull exer...  NON_RELEVANT   \n",
       "\n",
       "                                          explanation  \n",
       "55  The generated answer incorrectly classifies th...  "
      ]
     },
     "execution_count": 65,
     "metadata": {},
     "output_type": "execute_result"
    }
   ],
   "source": [
    "df_eval[df_eval.relevance == 'NON_RELEVANT']"
   ]
  },
  {
   "cell_type": "code",
   "execution_count": 67,
   "id": "aaeba9d0-5433-4ae4-b988-12ba3dae5f61",
   "metadata": {},
   "outputs": [
    {
     "data": {
      "application/vnd.jupyter.widget-view+json": {
       "model_id": "ebb262c284804e598b1ff91337040bc9",
       "version_major": 2,
       "version_minor": 0
      },
      "text/plain": [
       "  0%|          | 0/200 [00:00<?, ?it/s]"
      ]
     },
     "metadata": {},
     "output_type": "display_data"
    }
   ],
   "source": [
    "evaluations_gpt_4_1 = []\n",
    "\n",
    "for record in tqdm(sample):\n",
    "    question = record['question']\n",
    "    answer_llm = rag(question, model = 'gpt-4.1-mini')\n",
    "\n",
    "    prompt = prompt2_template.format(\n",
    "        question = question, \n",
    "        answer_llm= answer_llm\n",
    "    )\n",
    "    evaluation = llm(prompt, model = 'gpt-4.1-mini')\n",
    "    evaluation = json.loads(evaluation)\n",
    "\n",
    "    evaluations_gpt_4_1.append((record, answer_llm, evaluation))"
   ]
  },
  {
   "cell_type": "code",
   "execution_count": 68,
   "id": "9f545957-3f6b-456f-a6ca-23c8b4c7a22d",
   "metadata": {},
   "outputs": [],
   "source": [
    "df_eval_2 = pd.DataFrame(evaluations_gpt_4_1, columns = ['record', 'answer', 'evaluation'])"
   ]
  },
  {
   "cell_type": "code",
   "execution_count": 69,
   "id": "77187da6-e235-43e8-a602-3a2faba2cc89",
   "metadata": {},
   "outputs": [],
   "source": [
    "df_eval_2['id'] = df_eval_2.record.apply(lambda d: d['id'])\n",
    "df_eval_2['question'] = df_eval_2.record.apply(lambda d: d['question'])\n",
    "\n",
    "df_eval_2['relevance'] = df_eval_2.evaluation.apply(lambda d: d['Relevance'])\n",
    "df_eval_2['explanation'] = df_eval_2.evaluation.apply(lambda d: d['Explanation'])"
   ]
  },
  {
   "cell_type": "code",
   "execution_count": 70,
   "id": "cae7642a-e1b0-487f-9be6-4009a9814748",
   "metadata": {},
   "outputs": [],
   "source": [
    "del df_eval_2['record']\n",
    "del df_eval_2['evaluation']"
   ]
  },
  {
   "cell_type": "code",
   "execution_count": 71,
   "id": "43177fcd-3194-4eab-8d03-09e1f48ffcc6",
   "metadata": {},
   "outputs": [
    {
     "data": {
      "text/plain": [
       "relevance\n",
       "RELEVANT           0.910\n",
       "PARTLY_RELEVANT    0.085\n",
       "NON_RELEVANT       0.005\n",
       "Name: proportion, dtype: float64"
      ]
     },
     "execution_count": 71,
     "metadata": {},
     "output_type": "execute_result"
    }
   ],
   "source": [
    "df_eval_2.relevance.value_counts(normalize=True)"
   ]
  },
  {
   "cell_type": "code",
   "execution_count": null,
   "id": "5fe8719a-11f0-4c7d-bc33-958701c14bda",
   "metadata": {},
   "outputs": [],
   "source": []
  }
 ],
 "metadata": {
  "kernelspec": {
   "display_name": "Python 3",
   "language": "python",
   "name": "python3"
  },
  "language_info": {
   "codemirror_mode": {
    "name": "ipython",
    "version": 3
   },
   "file_extension": ".py",
   "mimetype": "text/x-python",
   "name": "python",
   "nbconvert_exporter": "python",
   "pygments_lexer": "ipython3",
   "version": "3.10.10"
  }
 },
 "nbformat": 4,
 "nbformat_minor": 5
}
