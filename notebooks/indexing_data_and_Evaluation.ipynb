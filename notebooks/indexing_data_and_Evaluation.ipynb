{
 "cells": [
  {
   "cell_type": "code",
   "execution_count": 29,
   "id": "7352d137-fe60-4d1c-af1d-34681374443d",
   "metadata": {},
   "outputs": [],
   "source": [
    "import os\n",
    "import pandas as pd\n",
    "from openai import OpenAI\n",
    "from dotenv import load_dotenv\n",
    "from groq import Groq\n",
    "import openai\n",
    "from tqdm.auto import tqdm"
   ]
  },
  {
   "cell_type": "code",
   "execution_count": 30,
   "id": "ad7c4829-dab2-44bb-900c-840cc812f7a2",
   "metadata": {},
   "outputs": [],
   "source": [
    "import minsearch"
   ]
  },
  {
   "cell_type": "markdown",
   "id": "67fa9446-d3ab-4df2-8978-4bb237644114",
   "metadata": {},
   "source": [
    "## Ingestion"
   ]
  },
  {
   "cell_type": "code",
   "execution_count": 31,
   "id": "f5740e33-9d22-42cf-9525-bcd15e2ef131",
   "metadata": {},
   "outputs": [],
   "source": [
    "df = pd.read_csv('../data/data.csv')"
   ]
  },
  {
   "cell_type": "code",
   "execution_count": 32,
   "id": "46679a4e-5037-4b9a-84a5-017dfb55ee0f",
   "metadata": {},
   "outputs": [],
   "source": [
    "documents = df.to_dict(orient='records')"
   ]
  },
  {
   "cell_type": "code",
   "execution_count": 33,
   "id": "22907692-0013-4035-8004-9a76c1f28797",
   "metadata": {},
   "outputs": [],
   "source": [
    "index = minsearch.Index(\n",
    "    text_fields=['exercise_name', 'type_of_activity', 'type_of_equipment', 'body_part',\n",
    "       'type', 'muscle_groups_activated', 'instructions'],\n",
    "    keyword_fields=['id']\n",
    ")"
   ]
  },
  {
   "cell_type": "code",
   "execution_count": 34,
   "id": "e150128b-aff7-4f4b-81e8-4fe3e1296f03",
   "metadata": {},
   "outputs": [
    {
     "data": {
      "text/plain": [
       "<minsearch.Index at 0x779fb3438560>"
      ]
     },
     "execution_count": 34,
     "metadata": {},
     "output_type": "execute_result"
    }
   ],
   "source": [
    "index.fit(documents)"
   ]
  },
  {
   "cell_type": "markdown",
   "id": "204dfd77-060f-419e-ac0c-2d095dcd7adb",
   "metadata": {},
   "source": [
    "## Rag Flow"
   ]
  },
  {
   "cell_type": "code",
   "execution_count": 35,
   "id": "a4ae7901-c6e4-43e6-9390-aa0e8b2bbf00",
   "metadata": {},
   "outputs": [
    {
     "data": {
      "text/plain": [
       "True"
      ]
     },
     "execution_count": 35,
     "metadata": {},
     "output_type": "execute_result"
    }
   ],
   "source": [
    "load_dotenv()"
   ]
  },
  {
   "cell_type": "code",
   "execution_count": 36,
   "id": "ea17c96f-cd47-4a9c-a139-88b01ea06d3e",
   "metadata": {},
   "outputs": [],
   "source": [
    "client = OpenAI()"
   ]
  },
  {
   "cell_type": "code",
   "execution_count": 37,
   "id": "b099d812-9d9f-4a99-b838-fb56c1630ba7",
   "metadata": {},
   "outputs": [],
   "source": [
    "# client = Groq(\n",
    "#     api_key=os.environ.get(\"GROQ_API_KEY\"),\n",
    "# )"
   ]
  },
  {
   "cell_type": "code",
   "execution_count": 38,
   "id": "538d4d10-266f-4d75-8138-f91b27db6e0e",
   "metadata": {},
   "outputs": [],
   "source": [
    "def search(query):\n",
    "    boost = {}\n",
    "\n",
    "    results = index.search(\n",
    "        query=query,\n",
    "        filter_dict={},\n",
    "        boost_dict=boost,\n",
    "        num_results=10\n",
    "    )\n",
    "\n",
    "    return results"
   ]
  },
  {
   "cell_type": "code",
   "execution_count": 39,
   "id": "cd8d24d2-a4ec-4d84-ab7e-e893e82a6f60",
   "metadata": {},
   "outputs": [],
   "source": [
    "prompt_template = \"\"\"\n",
    "You're a fitness instructor. Answer the QUESTION based on the CONTEXT from our exercises database.\n",
    "Use only the facts from the CONTEXT when answering the QUESTION.\n",
    "\n",
    "QUESTION: {question}\n",
    "\n",
    "CONTEXT: \n",
    "{context}\n",
    "\"\"\".strip()\n",
    "\n",
    "entry_template = \"\"\" \n",
    "exercise_name : {exercise_name}\n",
    "type_of_activity : {type_of_activity}\n",
    "type_of_equipment : {type_of_equipment}\n",
    "body_part : {body_part}\n",
    "type : {type}\n",
    "muscle_groups_activated : {muscle_groups_activated}\n",
    "instructions : {instructions}\n",
    "\"\"\".strip()\n",
    "    \n",
    "def build_prompt(query, search_results):\n",
    "    \n",
    "    context = \"\"\n",
    "    \n",
    "    for doc in search_results:\n",
    "        context = context + entry_template.format(**doc) + \"\\n\\n\"\n",
    "    \n",
    "    prompt = prompt_template.format(question=query, context=context).strip()\n",
    "    return prompt\n"
   ]
  },
  {
   "cell_type": "code",
   "execution_count": 40,
   "id": "ba12fd63-350e-4bca-8fc1-120c7ee7d82d",
   "metadata": {},
   "outputs": [],
   "source": [
    "query =  \"Can you explain how to do a Glute Bridge, I'm not sure about the movement.\""
   ]
  },
  {
   "cell_type": "code",
   "execution_count": 41,
   "id": "06ad8d50-8568-4751-a65d-87d5394d7c7b",
   "metadata": {},
   "outputs": [],
   "source": [
    "search_results = search(query)\n",
    "prompt = build_prompt(query, search_results)"
   ]
  },
  {
   "cell_type": "code",
   "execution_count": 42,
   "id": "c294bc29-2763-4c08-8298-fd80e320633d",
   "metadata": {},
   "outputs": [],
   "source": [
    "def llm(prompt):\n",
    "    response = client.chat.completions.create(\n",
    "        model=\"gpt-4o-mini\",\n",
    "        messages=[{\"role\": \"user\", \"content\": prompt}]\n",
    "    )\n",
    "    \n",
    "    return response.choices[0].message.content"
   ]
  },
  {
   "cell_type": "code",
   "execution_count": 43,
   "id": "eee60ca5-6c88-4035-a2f6-190c462e4923",
   "metadata": {},
   "outputs": [],
   "source": [
    "def rag(query):\n",
    "    search_results = search(query)\n",
    "    prompt = build_prompt(query, search_results)\n",
    "    #print(prompt)\n",
    "    answer = llm(prompt)\n",
    "    return answer"
   ]
  },
  {
   "cell_type": "code",
   "execution_count": 44,
   "id": "7be7b1f0-27d6-4fe2-af16-feb1b1526d05",
   "metadata": {},
   "outputs": [
    {
     "name": "stdout",
     "output_type": "stream",
     "text": [
      "The specific muscle groups predominantly activated during the Cable Face Pull exercise are the Rear Delts, Traps, and Upper Back.\n"
     ]
    }
   ],
   "source": [
    "answer = rag(\"What specific muscle groups are predominantly activated during the Cable Face Pull exercise?\")\n",
    "print(answer)"
   ]
  },
  {
   "cell_type": "markdown",
   "id": "98f0d794-1b38-4c1b-ab9a-b6fb7584d7e1",
   "metadata": {},
   "source": [
    "### Retrieval Evaluation"
   ]
  },
  {
   "cell_type": "code",
   "execution_count": 45,
   "id": "ecf7a59e-8baf-46e2-bc3c-9562b5d4b524",
   "metadata": {},
   "outputs": [],
   "source": [
    "df_questions = pd.read_csv('../data/ground_truth_retrieval.csv')"
   ]
  },
  {
   "cell_type": "code",
   "execution_count": 46,
   "id": "f2265ac2-90ee-4bde-8f3e-89025a4fc5cc",
   "metadata": {},
   "outputs": [
    {
     "data": {
      "text/html": [
       "<div>\n",
       "<style scoped>\n",
       "    .dataframe tbody tr th:only-of-type {\n",
       "        vertical-align: middle;\n",
       "    }\n",
       "\n",
       "    .dataframe tbody tr th {\n",
       "        vertical-align: top;\n",
       "    }\n",
       "\n",
       "    .dataframe thead th {\n",
       "        text-align: right;\n",
       "    }\n",
       "</style>\n",
       "<table border=\"1\" class=\"dataframe\">\n",
       "  <thead>\n",
       "    <tr style=\"text-align: right;\">\n",
       "      <th></th>\n",
       "      <th>id</th>\n",
       "      <th>question</th>\n",
       "    </tr>\n",
       "  </thead>\n",
       "  <tbody>\n",
       "    <tr>\n",
       "      <th>0</th>\n",
       "      <td>0</td>\n",
       "      <td>What is the starting position for a push-up?</td>\n",
       "    </tr>\n",
       "    <tr>\n",
       "      <th>1</th>\n",
       "      <td>0</td>\n",
       "      <td>Which muscle groups are activated during push-...</td>\n",
       "    </tr>\n",
       "    <tr>\n",
       "      <th>2</th>\n",
       "      <td>0</td>\n",
       "      <td>What type of exercise is a push-up classified as?</td>\n",
       "    </tr>\n",
       "    <tr>\n",
       "      <th>3</th>\n",
       "      <td>0</td>\n",
       "      <td>Do I need any equipment to perform push-ups?</td>\n",
       "    </tr>\n",
       "    <tr>\n",
       "      <th>4</th>\n",
       "      <td>0</td>\n",
       "      <td>What is the correct form for lowering my body ...</td>\n",
       "    </tr>\n",
       "    <tr>\n",
       "      <th>...</th>\n",
       "      <td>...</td>\n",
       "      <td>...</td>\n",
       "    </tr>\n",
       "    <tr>\n",
       "      <th>1295</th>\n",
       "      <td>259</td>\n",
       "      <td>What is the name of the exercise that targets ...</td>\n",
       "    </tr>\n",
       "    <tr>\n",
       "      <th>1296</th>\n",
       "      <td>259</td>\n",
       "      <td>What type of equipment do I need for the Supin...</td>\n",
       "    </tr>\n",
       "    <tr>\n",
       "      <th>1297</th>\n",
       "      <td>259</td>\n",
       "      <td>How do I properly perform the Supine Hamstring...</td>\n",
       "    </tr>\n",
       "    <tr>\n",
       "      <th>1298</th>\n",
       "      <td>259</td>\n",
       "      <td>What body part is primarily involved in the Su...</td>\n",
       "    </tr>\n",
       "    <tr>\n",
       "      <th>1299</th>\n",
       "      <td>259</td>\n",
       "      <td>Is the Supine Hamstring Stretch considered a m...</td>\n",
       "    </tr>\n",
       "  </tbody>\n",
       "</table>\n",
       "<p>1300 rows × 2 columns</p>\n",
       "</div>"
      ],
      "text/plain": [
       "       id                                           question\n",
       "0       0       What is the starting position for a push-up?\n",
       "1       0  Which muscle groups are activated during push-...\n",
       "2       0  What type of exercise is a push-up classified as?\n",
       "3       0       Do I need any equipment to perform push-ups?\n",
       "4       0  What is the correct form for lowering my body ...\n",
       "...   ...                                                ...\n",
       "1295  259  What is the name of the exercise that targets ...\n",
       "1296  259  What type of equipment do I need for the Supin...\n",
       "1297  259  How do I properly perform the Supine Hamstring...\n",
       "1298  259  What body part is primarily involved in the Su...\n",
       "1299  259  Is the Supine Hamstring Stretch considered a m...\n",
       "\n",
       "[1300 rows x 2 columns]"
      ]
     },
     "execution_count": 46,
     "metadata": {},
     "output_type": "execute_result"
    }
   ],
   "source": [
    "df_questions"
   ]
  },
  {
   "cell_type": "code",
   "execution_count": 47,
   "id": "604c8b6c-7675-42b3-a83f-611b9c55f085",
   "metadata": {},
   "outputs": [],
   "source": [
    "ground_truth = df_questions.to_dict(orient=\"records\")"
   ]
  },
  {
   "cell_type": "code",
   "execution_count": 48,
   "id": "829712d6-2cfb-49dc-b4bc-0064a406de01",
   "metadata": {},
   "outputs": [
    {
     "data": {
      "text/plain": [
       "{'id': 0, 'question': 'What is the starting position for a push-up?'}"
      ]
     },
     "execution_count": 48,
     "metadata": {},
     "output_type": "execute_result"
    }
   ],
   "source": [
    "ground_truth[0]"
   ]
  },
  {
   "cell_type": "code",
   "execution_count": 49,
   "id": "8b2fbbe0-9410-4fd6-a0d6-03f961726723",
   "metadata": {},
   "outputs": [],
   "source": [
    "def hit_rate(relevance_input):\n",
    "    cnt = 0\n",
    "    for line in relevance_input:\n",
    "        if True in line:\n",
    "            cnt = cnt + 1\n",
    "            \n",
    "    return cnt / len(relevance_input)"
   ]
  },
  {
   "cell_type": "code",
   "execution_count": 50,
   "id": "e88f9246-c83a-4445-a7f7-8fcce4c895b6",
   "metadata": {},
   "outputs": [],
   "source": [
    "def mrr(relavance_input):\n",
    "    total_score = 0\n",
    "\n",
    "    for line in relavance_input:\n",
    "        for rank in range(len(line)):\n",
    "            if line[rank] == True:\n",
    "                total_score = total_score + 1 / (rank + 1)\n",
    "\n",
    "    return total_score / len(relavance_input)"
   ]
  },
  {
   "cell_type": "code",
   "execution_count": 51,
   "id": "f7191f70-1489-458c-a03a-b5109f467271",
   "metadata": {},
   "outputs": [],
   "source": [
    "def minsearch_search(query):\n",
    "    boost = {}\n",
    "\n",
    "    results = index.search(\n",
    "        query=query,\n",
    "        filter_dict={},\n",
    "        boost_dict=boost,\n",
    "        num_results=10\n",
    "    )\n",
    "\n",
    "    return results"
   ]
  },
  {
   "cell_type": "code",
   "execution_count": 52,
   "id": "95819b5b-aa59-4987-adcd-e3201c34cbbc",
   "metadata": {},
   "outputs": [],
   "source": [
    "def evaluate(ground_truth, search_function):\n",
    "    relevance_total = []\n",
    "\n",
    "    for q in tqdm(ground_truth):\n",
    "        doc_id = q['id']\n",
    "        results = search_function(q)\n",
    "        relevance = [d['id'] == doc_id for d in results]\n",
    "        relevance_total.append(relevance)\n",
    "\n",
    "    return {\n",
    "        'hit_rate': hit_rate(relevance_total),\n",
    "        'mrr': mrr(relevance_total),\n",
    "    }"
   ]
  },
  {
   "cell_type": "code",
   "execution_count": 44,
   "id": "e29dde9a-b5c2-4fd5-b27a-dd65a1a5c8ba",
   "metadata": {},
   "outputs": [
    {
     "data": {
      "application/vnd.jupyter.widget-view+json": {
       "model_id": "3138a57acddf45669a03e09f250776f4",
       "version_major": 2,
       "version_minor": 0
      },
      "text/plain": [
       "  0%|          | 0/1300 [00:00<?, ?it/s]"
      ]
     },
     "metadata": {},
     "output_type": "display_data"
    },
    {
     "data": {
      "text/plain": [
       "{'hit_rate': 0.9346153846153846, 'mrr': 0.7993296703296706}"
      ]
     },
     "execution_count": 44,
     "metadata": {},
     "output_type": "execute_result"
    }
   ],
   "source": [
    "evaluate(ground_truth, lambda q: minsearch_search(q['question']))"
   ]
  },
  {
   "cell_type": "markdown",
   "id": "633ce200-6449-4ab3-948c-df244b198d04",
   "metadata": {},
   "source": [
    "#### Finding the best parameters"
   ]
  },
  {
   "cell_type": "code",
   "execution_count": 53,
   "id": "f9eafda6-6116-4924-b3d3-4a53404697d5",
   "metadata": {},
   "outputs": [],
   "source": [
    "df_Validation = df_questions[:100]"
   ]
  },
  {
   "cell_type": "code",
   "execution_count": 54,
   "id": "55e79cc4-47b3-493c-ac8f-d420011a2ae1",
   "metadata": {},
   "outputs": [],
   "source": [
    "from hyperopt import fmin, tpe, hp, STATUS_OK, Trials\n",
    "from hyperopt.pyll import scope"
   ]
  },
  {
   "cell_type": "code",
   "execution_count": 84,
   "id": "c1d72100-6a2e-4e79-a257-33d24fb65dc3",
   "metadata": {},
   "outputs": [],
   "source": [
    "import random\n",
    "\n",
    "def simple_optimize(param_ranges, objective_function, n_iterations =10):\n",
    "    best_params = None\n",
    "    best_score = float('-inf')\n",
    "\n",
    "    for _ in range(n_iterations):\n",
    "        #Generate random parameters\n",
    "        current_params = {}\n",
    "\n",
    "        for param, (min_val, max_val) in param_ranges.items():\n",
    "            if isinstance(min_val, int) and isinstance(max_val, int):\n",
    "                current_params[param] = random.randint(min_val, max_val)\n",
    "            else:\n",
    "                current_params[param] = random.uniform(min_val, max_val)\n",
    "        #Evaluate objective function\n",
    "        current_score = objective_function(current_params)\n",
    "\n",
    "\n",
    "        #update best if current is better\n",
    "        if current_score > best_score: #change to > if maximizing\n",
    "            best_score = current_score\n",
    "            best_params = current_params\n",
    "\n",
    "    return best_params, best_score"
   ]
  },
  {
   "cell_type": "code",
   "execution_count": 85,
   "id": "f113f6fd-0610-449c-a718-ee4af4ea97da",
   "metadata": {},
   "outputs": [],
   "source": [
    "gt_val = df_Validation.to_dict(orient=\"records\")"
   ]
  },
  {
   "cell_type": "code",
   "execution_count": 86,
   "id": "2b9fce29-b540-4b3a-8f0a-67ccb2b10aa0",
   "metadata": {},
   "outputs": [],
   "source": [
    "def minsearch_search(query, boost= None):\n",
    "    if boost is None:\n",
    "        boost = {}\n",
    "\n",
    "    results = index.search(\n",
    "        query=query,\n",
    "        filter_dict={},\n",
    "        boost_dict=boost,\n",
    "        num_results=10\n",
    "    )\n",
    "\n",
    "    return results"
   ]
  },
  {
   "cell_type": "code",
   "execution_count": 87,
   "id": "3a87430c-df81-4d8c-8e76-ce25df4654d3",
   "metadata": {},
   "outputs": [],
   "source": [
    "param_ranges = {\n",
    "    'exercise_name': (0.0, 3.0),\n",
    "     'type_of_activity': (0.0, 3.0),\n",
    "     'type_of_equipment': (0.0, 3.0),\n",
    "     'body_part': (0.0, 3.0),\n",
    "     'type': (0.0, 3.0),\n",
    "     'muscle_groups_activated': (0.0, 3.0),\n",
    "     'instructions': (0.0, 3.0),\n",
    "}\n",
    "\n",
    "def objective(boost_params):\n",
    "    def search_function(q):\n",
    "        return minsearch_search(q['question'], boost_params)\n",
    "                                \n",
    "    results = evaluate(gt_val, search_function)\n",
    "    return results['mrr']"
   ]
  },
  {
   "cell_type": "code",
   "execution_count": 88,
   "id": "e9d06572-5f7d-492b-b4d8-ec4d5fa1682c",
   "metadata": {},
   "outputs": [
    {
     "data": {
      "application/vnd.jupyter.widget-view+json": {
       "model_id": "d3e26d4a559b44849184440e56874e67",
       "version_major": 2,
       "version_minor": 0
      },
      "text/plain": [
       "  0%|          | 0/100 [00:00<?, ?it/s]"
      ]
     },
     "metadata": {},
     "output_type": "display_data"
    },
    {
     "data": {
      "application/vnd.jupyter.widget-view+json": {
       "model_id": "6da2065bef0c4ba9b950caa9b733d436",
       "version_major": 2,
       "version_minor": 0
      },
      "text/plain": [
       "  0%|          | 0/100 [00:00<?, ?it/s]"
      ]
     },
     "metadata": {},
     "output_type": "display_data"
    },
    {
     "data": {
      "application/vnd.jupyter.widget-view+json": {
       "model_id": "de664cf7b2de463cbd11a9fe7549cc98",
       "version_major": 2,
       "version_minor": 0
      },
      "text/plain": [
       "  0%|          | 0/100 [00:00<?, ?it/s]"
      ]
     },
     "metadata": {},
     "output_type": "display_data"
    },
    {
     "data": {
      "application/vnd.jupyter.widget-view+json": {
       "model_id": "5d84f9247b504f8382c72cde60817d1d",
       "version_major": 2,
       "version_minor": 0
      },
      "text/plain": [
       "  0%|          | 0/100 [00:00<?, ?it/s]"
      ]
     },
     "metadata": {},
     "output_type": "display_data"
    },
    {
     "data": {
      "application/vnd.jupyter.widget-view+json": {
       "model_id": "ef42c4353eca4efcbf28ad55d39011a5",
       "version_major": 2,
       "version_minor": 0
      },
      "text/plain": [
       "  0%|          | 0/100 [00:00<?, ?it/s]"
      ]
     },
     "metadata": {},
     "output_type": "display_data"
    },
    {
     "data": {
      "application/vnd.jupyter.widget-view+json": {
       "model_id": "c5e316afbd4d4e06a0f5a01fa345edb4",
       "version_major": 2,
       "version_minor": 0
      },
      "text/plain": [
       "  0%|          | 0/100 [00:00<?, ?it/s]"
      ]
     },
     "metadata": {},
     "output_type": "display_data"
    },
    {
     "data": {
      "application/vnd.jupyter.widget-view+json": {
       "model_id": "c3486373a0db46988a444294326ed34d",
       "version_major": 2,
       "version_minor": 0
      },
      "text/plain": [
       "  0%|          | 0/100 [00:00<?, ?it/s]"
      ]
     },
     "metadata": {},
     "output_type": "display_data"
    },
    {
     "data": {
      "application/vnd.jupyter.widget-view+json": {
       "model_id": "202926b255a54fe2a751c68c253dd13d",
       "version_major": 2,
       "version_minor": 0
      },
      "text/plain": [
       "  0%|          | 0/100 [00:00<?, ?it/s]"
      ]
     },
     "metadata": {},
     "output_type": "display_data"
    },
    {
     "data": {
      "application/vnd.jupyter.widget-view+json": {
       "model_id": "f4b8fbb7a91c4241b9cc0b4bec2771a7",
       "version_major": 2,
       "version_minor": 0
      },
      "text/plain": [
       "  0%|          | 0/100 [00:00<?, ?it/s]"
      ]
     },
     "metadata": {},
     "output_type": "display_data"
    },
    {
     "data": {
      "application/vnd.jupyter.widget-view+json": {
       "model_id": "2cc4542cd0fe4879bc1e6237761730de",
       "version_major": 2,
       "version_minor": 0
      },
      "text/plain": [
       "  0%|          | 0/100 [00:00<?, ?it/s]"
      ]
     },
     "metadata": {},
     "output_type": "display_data"
    },
    {
     "data": {
      "application/vnd.jupyter.widget-view+json": {
       "model_id": "59fc16fad9b0428f8e1cc76948c96c50",
       "version_major": 2,
       "version_minor": 0
      },
      "text/plain": [
       "  0%|          | 0/100 [00:00<?, ?it/s]"
      ]
     },
     "metadata": {},
     "output_type": "display_data"
    },
    {
     "data": {
      "application/vnd.jupyter.widget-view+json": {
       "model_id": "2415bc410b8949d39e3a33632b2973a6",
       "version_major": 2,
       "version_minor": 0
      },
      "text/plain": [
       "  0%|          | 0/100 [00:00<?, ?it/s]"
      ]
     },
     "metadata": {},
     "output_type": "display_data"
    },
    {
     "data": {
      "application/vnd.jupyter.widget-view+json": {
       "model_id": "d7832c8c5cdd49a09136afdd5fe0730a",
       "version_major": 2,
       "version_minor": 0
      },
      "text/plain": [
       "  0%|          | 0/100 [00:00<?, ?it/s]"
      ]
     },
     "metadata": {},
     "output_type": "display_data"
    },
    {
     "data": {
      "application/vnd.jupyter.widget-view+json": {
       "model_id": "5d9c97b245234403a1fdb7572c65afda",
       "version_major": 2,
       "version_minor": 0
      },
      "text/plain": [
       "  0%|          | 0/100 [00:00<?, ?it/s]"
      ]
     },
     "metadata": {},
     "output_type": "display_data"
    },
    {
     "data": {
      "application/vnd.jupyter.widget-view+json": {
       "model_id": "09ec2e3cbdbc420593958aef93bf823c",
       "version_major": 2,
       "version_minor": 0
      },
      "text/plain": [
       "  0%|          | 0/100 [00:00<?, ?it/s]"
      ]
     },
     "metadata": {},
     "output_type": "display_data"
    },
    {
     "data": {
      "application/vnd.jupyter.widget-view+json": {
       "model_id": "60ea4879fadb4704b68cac88b09fece9",
       "version_major": 2,
       "version_minor": 0
      },
      "text/plain": [
       "  0%|          | 0/100 [00:00<?, ?it/s]"
      ]
     },
     "metadata": {},
     "output_type": "display_data"
    },
    {
     "data": {
      "application/vnd.jupyter.widget-view+json": {
       "model_id": "4eecb4a42bad4631a194a8ef1fd42acc",
       "version_major": 2,
       "version_minor": 0
      },
      "text/plain": [
       "  0%|          | 0/100 [00:00<?, ?it/s]"
      ]
     },
     "metadata": {},
     "output_type": "display_data"
    },
    {
     "data": {
      "application/vnd.jupyter.widget-view+json": {
       "model_id": "3e6408e198c04b3887c5a4d0d8341be1",
       "version_major": 2,
       "version_minor": 0
      },
      "text/plain": [
       "  0%|          | 0/100 [00:00<?, ?it/s]"
      ]
     },
     "metadata": {},
     "output_type": "display_data"
    },
    {
     "data": {
      "application/vnd.jupyter.widget-view+json": {
       "model_id": "69d2c533e3a949e1995dde240c4d2d8b",
       "version_major": 2,
       "version_minor": 0
      },
      "text/plain": [
       "  0%|          | 0/100 [00:00<?, ?it/s]"
      ]
     },
     "metadata": {},
     "output_type": "display_data"
    },
    {
     "data": {
      "application/vnd.jupyter.widget-view+json": {
       "model_id": "5b83f480db1c48c0a992794246a9dd90",
       "version_major": 2,
       "version_minor": 0
      },
      "text/plain": [
       "  0%|          | 0/100 [00:00<?, ?it/s]"
      ]
     },
     "metadata": {},
     "output_type": "display_data"
    },
    {
     "data": {
      "text/plain": [
       "({'exercise_name': 2.772783357349355,\n",
       "  'type_of_activity': 2.492075223531411,\n",
       "  'type_of_equipment': 1.4130731740223967,\n",
       "  'body_part': 0.6746770192988303,\n",
       "  'type': 2.4213127428405747,\n",
       "  'muscle_groups_activated': 1.0617426409802255,\n",
       "  'instructions': 1.1005264566993094},\n",
       " 0.8947619047619049)"
      ]
     },
     "execution_count": 88,
     "metadata": {},
     "output_type": "execute_result"
    }
   ],
   "source": [
    "simple_optimize(param_ranges, objective, n_iterations =20)"
   ]
  },
  {
   "cell_type": "markdown",
   "id": "53caec28-dfab-4c86-b6c1-22e3adefb56c",
   "metadata": {},
   "source": [
    " ({'exercise_name': 3,  \n",
    "  'type_of_activity': 0,  \n",
    "  'type_of_equipment': 0,  \n",
    "  'body_part': 2,  \n",
    "  'type': 1,  \n",
    "  'muscle_groups_activated': 3,  \n",
    "  'instructions': 0},  \n",
    " 0.8690833333333333)  "
   ]
  },
  {
   "cell_type": "code",
   "execution_count": null,
   "id": "89c7b833-47e5-440a-8f5b-58c247f7bdf1",
   "metadata": {},
   "outputs": [],
   "source": [
    "def minsearch_improved(query, boost):\n",
    "    boost ={\n",
    "        'exercise_name': 2.7,\n",
    "        'type_of_activity': 2.4,\n",
    "        'type_of_equipment': 1.4,\n",
    "        'body_part': 0.67,\n",
    "        'type': 2.42,\n",
    "        'muscle_groups_activated': 1.06,\n",
    "        'instructions': 1.1\n",
    "    }\n",
    "\n",
    "    results = index.search(\n",
    "        query=query,\n",
    "        filter_dict={},\n",
    "        boost_dict=boost,\n",
    "        num_results=10\n",
    "    )\n",
    "\n",
    "    return results\n",
    "\n",
    "evaluate(ground_truth, lambda q: minsearch_improved(q['question']))"
   ]
  },
  {
   "cell_type": "code",
   "execution_count": null,
   "id": "56239ac1-b382-4ee9-a93d-0eaa5e3a91ea",
   "metadata": {},
   "outputs": [],
   "source": []
  }
 ],
 "metadata": {
  "kernelspec": {
   "display_name": "Python 3 (ipykernel)",
   "language": "python",
   "name": "python3"
  },
  "language_info": {
   "codemirror_mode": {
    "name": "ipython",
    "version": 3
   },
   "file_extension": ".py",
   "mimetype": "text/x-python",
   "name": "python",
   "nbconvert_exporter": "python",
   "pygments_lexer": "ipython3",
   "version": "3.12.1"
  }
 },
 "nbformat": 4,
 "nbformat_minor": 5
}
