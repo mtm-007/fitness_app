{
 "cells": [
  {
   "cell_type": "code",
   "execution_count": 4,
   "id": "b4a7822e-358e-48a3-89cb-58270fcf48a7",
   "metadata": {},
   "outputs": [],
   "source": [
    "import os\n",
    "import pandas as pd\n",
    "from openai import OpenAI\n",
    "from dotenv import load_dotenv\n",
    "from groq import Groq\n",
    "import openai\n",
    "\n",
    "import minsearch"
   ]
  },
  {
   "cell_type": "code",
   "execution_count": 3,
   "id": "a4ae7901-c6e4-43e6-9390-aa0e8b2bbf00",
   "metadata": {},
   "outputs": [
    {
     "data": {
      "text/plain": [
       "True"
      ]
     },
     "execution_count": 3,
     "metadata": {},
     "output_type": "execute_result"
    }
   ],
   "source": [
    "load_dotenv()"
   ]
  },
  {
   "cell_type": "code",
   "execution_count": 26,
   "id": "b099d812-9d9f-4a99-b838-fb56c1630ba7",
   "metadata": {},
   "outputs": [],
   "source": [
    "client = Groq(\n",
    "    api_key=os.environ.get(\"GROQ_API_KEY\"),\n",
    ")"
   ]
  },
  {
   "cell_type": "markdown",
   "id": "67fa9446-d3ab-4df2-8978-4bb237644114",
   "metadata": {},
   "source": [
    "## Ingestion"
   ]
  },
  {
   "cell_type": "code",
   "execution_count": 5,
   "id": "af697c13-0357-458d-ae2b-86dea26fa493",
   "metadata": {},
   "outputs": [],
   "source": [
    "df = pd.read_csv('../data/data.csv')\n",
    "documents = df.to_dict(orient='records')"
   ]
  },
  {
   "cell_type": "code",
   "execution_count": 6,
   "id": "4e59ced8-5b6b-4350-b68b-7dfdc8db47c0",
   "metadata": {},
   "outputs": [
    {
     "data": {
      "text/plain": [
       "{'id': 0,\n",
       " 'exercise_name': 'Push-Up',\n",
       " 'type_of_activity': 'Strength',\n",
       " 'type_of_equipment': 'Bodyweight',\n",
       " 'body_part': 'Upper Body',\n",
       " 'type': 'Push',\n",
       " 'muscle_groups_activated': 'Chest, Triceps, Shoulders, Core',\n",
       " 'instructions': 'Start in a plank position, lower your body until your chest nearly touches the floor, then push back up to the starting position.'}"
      ]
     },
     "execution_count": 6,
     "metadata": {},
     "output_type": "execute_result"
    }
   ],
   "source": [
    "documents[0]"
   ]
  },
  {
   "cell_type": "code",
   "execution_count": 7,
   "id": "94d3be3c-67d5-4d9b-b6fe-188335b26570",
   "metadata": {},
   "outputs": [],
   "source": [
    "prompt_template = \"\"\"\n",
    "You emulate a user of our fitness assistant applications.\n",
    "Formulate 5 questions this user might ask based on a provided exercise. \n",
    "The record should contain the answer to the questions, and the questions should \n",
    "be complete and not too short. Use fewer words as possible from the record. \n",
    "\n",
    "The record:\n",
    "exercise_name : {exercise_name}\n",
    "type_of_activity : {type_of_activity}\n",
    "type_of_equipment : {type_of_equipment}\n",
    "body_part : {body_part}\n",
    "type : {type}\n",
    "muscle_groups_activated : {muscle_groups_activated}\n",
    "instructions : {instructions}\n",
    "\n",
    "Provide the output in parsable JSON without using code blocks:\n",
    "\n",
    "[\"question1\", \"question2\", ..., \"question5\"]\n",
    "\"\"\".strip()"
   ]
  },
  {
   "cell_type": "code",
   "execution_count": null,
   "id": "4bb0e4f4-b3f6-4fcf-808c-483fea6d39ce",
   "metadata": {},
   "outputs": [],
   "source": []
  }
 ],
 "metadata": {
  "kernelspec": {
   "display_name": "Python 3 (ipykernel)",
   "language": "python",
   "name": "python3"
  },
  "language_info": {
   "codemirror_mode": {
    "name": "ipython",
    "version": 3
   },
   "file_extension": ".py",
   "mimetype": "text/x-python",
   "name": "python",
   "nbconvert_exporter": "python",
   "pygments_lexer": "ipython3",
   "version": "3.12.1"
  }
 },
 "nbformat": 4,
 "nbformat_minor": 5
}
